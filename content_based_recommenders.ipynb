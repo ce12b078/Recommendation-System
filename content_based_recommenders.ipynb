{
  "nbformat": 4,
  "nbformat_minor": 0,
  "metadata": {
    "kernelspec": {
      "name": "python3",
      "display_name": "Python 3"
    },
    "language_info": {
      "codemirror_mode": {
        "name": "ipython",
        "version": 3
      },
      "file_extension": ".py",
      "mimetype": "text/x-python",
      "name": "python",
      "nbconvert_exporter": "python",
      "pygments_lexer": "ipython3",
      "version": "3.6.0"
    },
    "colab": {
      "name": "Content_Based_Recommenders.ipynb",
      "provenance": [],
      "collapsed_sections": [],
      "machine_shape": "hm",
      "include_colab_link": true
    },
    "accelerator": "GPU"
  },
  "cells": [
    {
      "cell_type": "markdown",
      "metadata": {
        "id": "view-in-github",
        "colab_type": "text"
      },
      "source": [
        "<a href=\"https://colab.research.google.com/gist/ce12b078/d5409c87a51ab2b36ca8a2839c2c082d/content_based_recommenders.ipynb\" target=\"_parent\"><img src=\"https://colab.research.google.com/assets/colab-badge.svg\" alt=\"Open In Colab\"/></a>"
      ]
    },
    {
      "cell_type": "markdown",
      "metadata": {
        "id": "t_Sq1v7wzXk2",
        "colab_type": "text"
      },
      "source": [
        "# Plot Description Based Recommender"
      ]
    },
    {
      "cell_type": "code",
      "metadata": {
        "id": "GgdyqVlnenVw",
        "colab_type": "code",
        "outputId": "04d9e4c7-9f0f-4b90-9dc3-8a39adc8b15f",
        "colab": {
          "base_uri": "https://localhost:8080/",
          "height": 34
        }
      },
      "source": [
        "# Load the Drive helper and mount\n",
        "from google.colab import drive\n",
        "\n",
        "# This will prompt for authorization.\n",
        "drive.mount('/content/gdrive')"
      ],
      "execution_count": 0,
      "outputs": [
        {
          "output_type": "stream",
          "text": [
            "Drive already mounted at /content/gdrive; to attempt to forcibly remount, call drive.mount(\"/content/gdrive\", force_remount=True).\n"
          ],
          "name": "stdout"
        }
      ]
    },
    {
      "cell_type": "code",
      "metadata": {
        "id": "A8M3TR0zenSW",
        "colab_type": "code",
        "outputId": "085d2c41-bc67-4e86-c33f-84e09dd13278",
        "colab": {
          "base_uri": "https://localhost:8080/",
          "height": 782
        }
      },
      "source": [
        "# After executing the cell above, Drive\n",
        "# files will be present in \"/content/drive/My Drive\".\n",
        "!ls \"/content/gdrive/My Drive\""
      ],
      "execution_count": 0,
      "outputs": [
        {
          "output_type": "stream",
          "text": [
            " all_google_colab\n",
            " AnoushkaK_resume_fin.pdf\n",
            "'BASIC STATISTICS AND PROBABILITY.pps'\n",
            " books\n",
            "'Certificate for Printing'\n",
            "'cfa level 1 notes (1).rar'\n",
            "'cfa level 1 notes1.rar'\n",
            "'cfa level 1 notes.rar'\n",
            "'Cleaned data 2014.xlsx'\n",
            " code.R\n",
            "'Colab Notebooks'\n",
            "'comp list111.pdf'\n",
            "'eri valuation.gsheet'\n",
            " google_colab\n",
            "'home depot'\n",
            " HW4_report.pdf\n",
            "'IAR intro PPT.gslides'\n",
            "'Investment Analysis and Portfolio Management.pdf'\n",
            " kaggle\n",
            "'Kreyszig - Advanced Engineering Mathematics.pdf'\n",
            " M13419521_mid_term_submission.pdf\n",
            " mycsv.csv\n",
            " mycsv.gsheet\n",
            "'New DocPage 2'\n",
            "'New Doc.pdf'\n",
            " nhai_proj1.pdf\n",
            " nhai_proj2_bot.pdf\n",
            "'PPT TEMPLATE.gslides'\n",
            "'(Prentice Hall finance series) James C. Van Horne-Financial management and policy-Prentice Hall (2002) (1).pdf'\n",
            " resume1111.pdf\n",
            "'Resume Anshu Gupta.gdoc'\n",
            "'Resume Anshu Gupta.pdf'\n",
            " roof_images.solitairetheme8\n",
            " TCS\n",
            "'Technical Analysis_2.pdf'\n",
            " Test_final3.csv\n",
            "'Time Series.pptx'\n",
            " Train_final3.csv\n",
            "'U0009647_1009243989_INV (1).pdf'\n",
            " U0009647_1009243989_INV.pdf\n",
            "'Untitled form (1).gform'\n",
            "'Untitled form.gform'\n",
            "'Untitled form (Responses).gsheet'\n",
            "'Untitled spreadsheet (1).gsheet'\n",
            "'Untitled spreadsheet.gsheet'\n"
          ],
          "name": "stdout"
        }
      ]
    },
    {
      "cell_type": "code",
      "metadata": {
        "id": "UTZkM9F-foS2",
        "colab_type": "code",
        "colab": {}
      },
      "source": [
        "import pandas as pd\n",
        "df=pd.read_csv('gdrive/My Drive/all_google_colab/metadata_clean.csv')"
      ],
      "execution_count": 0,
      "outputs": []
    },
    {
      "cell_type": "code",
      "metadata": {
        "id": "AOp7Fbikz0gS",
        "colab_type": "code",
        "outputId": "9f6914ca-14b4-49eb-fce5-3e8a5e625709",
        "colab": {
          "base_uri": "https://localhost:8080/",
          "height": 204
        }
      },
      "source": [
        "import pandas as pd\n",
        "import numpy as np\n",
        "\n",
        "df.head()"
      ],
      "execution_count": 0,
      "outputs": [
        {
          "output_type": "execute_result",
          "data": {
            "text/html": [
              "<div>\n",
              "<style scoped>\n",
              "    .dataframe tbody tr th:only-of-type {\n",
              "        vertical-align: middle;\n",
              "    }\n",
              "\n",
              "    .dataframe tbody tr th {\n",
              "        vertical-align: top;\n",
              "    }\n",
              "\n",
              "    .dataframe thead th {\n",
              "        text-align: right;\n",
              "    }\n",
              "</style>\n",
              "<table border=\"1\" class=\"dataframe\">\n",
              "  <thead>\n",
              "    <tr style=\"text-align: right;\">\n",
              "      <th></th>\n",
              "      <th>title</th>\n",
              "      <th>genres</th>\n",
              "      <th>runtime</th>\n",
              "      <th>vote_average</th>\n",
              "      <th>vote_count</th>\n",
              "      <th>year</th>\n",
              "    </tr>\n",
              "  </thead>\n",
              "  <tbody>\n",
              "    <tr>\n",
              "      <th>0</th>\n",
              "      <td>Toy Story</td>\n",
              "      <td>['animation', 'comedy', 'family']</td>\n",
              "      <td>81.0</td>\n",
              "      <td>7.7</td>\n",
              "      <td>5415.0</td>\n",
              "      <td>1995</td>\n",
              "    </tr>\n",
              "    <tr>\n",
              "      <th>1</th>\n",
              "      <td>Jumanji</td>\n",
              "      <td>['adventure', 'fantasy', 'family']</td>\n",
              "      <td>104.0</td>\n",
              "      <td>6.9</td>\n",
              "      <td>2413.0</td>\n",
              "      <td>1995</td>\n",
              "    </tr>\n",
              "    <tr>\n",
              "      <th>2</th>\n",
              "      <td>Grumpier Old Men</td>\n",
              "      <td>['romance', 'comedy']</td>\n",
              "      <td>101.0</td>\n",
              "      <td>6.5</td>\n",
              "      <td>92.0</td>\n",
              "      <td>1995</td>\n",
              "    </tr>\n",
              "    <tr>\n",
              "      <th>3</th>\n",
              "      <td>Waiting to Exhale</td>\n",
              "      <td>['comedy', 'drama', 'romance']</td>\n",
              "      <td>127.0</td>\n",
              "      <td>6.1</td>\n",
              "      <td>34.0</td>\n",
              "      <td>1995</td>\n",
              "    </tr>\n",
              "    <tr>\n",
              "      <th>4</th>\n",
              "      <td>Father of the Bride Part II</td>\n",
              "      <td>['comedy']</td>\n",
              "      <td>106.0</td>\n",
              "      <td>5.7</td>\n",
              "      <td>173.0</td>\n",
              "      <td>1995</td>\n",
              "    </tr>\n",
              "  </tbody>\n",
              "</table>\n",
              "</div>"
            ],
            "text/plain": [
              "                         title  ...  year\n",
              "0                    Toy Story  ...  1995\n",
              "1                      Jumanji  ...  1995\n",
              "2             Grumpier Old Men  ...  1995\n",
              "3            Waiting to Exhale  ...  1995\n",
              "4  Father of the Bride Part II  ...  1995\n",
              "\n",
              "[5 rows x 6 columns]"
            ]
          },
          "metadata": {
            "tags": []
          },
          "execution_count": 7
        }
      ]
    },
    {
      "cell_type": "code",
      "metadata": {
        "id": "5R4eycRCzXlI",
        "colab_type": "code",
        "outputId": "c543d5a2-fa1e-4de6-8821-58f089a0ba4e",
        "colab": {
          "base_uri": "https://localhost:8080/",
          "height": 204
        }
      },
      "source": [
        "#Import the original file\n",
        "orig_df = pd.read_csv('gdrive/My Drive/all_google_colab/movies_metadata.csv', low_memory=False)\n",
        "\n",
        "#Add the useful features into the cleaned dataframe\n",
        "df['overview'], df['id'] = orig_df['overview'], orig_df['id']\n",
        "\n",
        "df.head()"
      ],
      "execution_count": 0,
      "outputs": [
        {
          "output_type": "execute_result",
          "data": {
            "text/html": [
              "<div>\n",
              "<style scoped>\n",
              "    .dataframe tbody tr th:only-of-type {\n",
              "        vertical-align: middle;\n",
              "    }\n",
              "\n",
              "    .dataframe tbody tr th {\n",
              "        vertical-align: top;\n",
              "    }\n",
              "\n",
              "    .dataframe thead th {\n",
              "        text-align: right;\n",
              "    }\n",
              "</style>\n",
              "<table border=\"1\" class=\"dataframe\">\n",
              "  <thead>\n",
              "    <tr style=\"text-align: right;\">\n",
              "      <th></th>\n",
              "      <th>title</th>\n",
              "      <th>genres</th>\n",
              "      <th>runtime</th>\n",
              "      <th>vote_average</th>\n",
              "      <th>vote_count</th>\n",
              "      <th>year</th>\n",
              "      <th>overview</th>\n",
              "      <th>id</th>\n",
              "    </tr>\n",
              "  </thead>\n",
              "  <tbody>\n",
              "    <tr>\n",
              "      <th>0</th>\n",
              "      <td>Toy Story</td>\n",
              "      <td>['animation', 'comedy', 'family']</td>\n",
              "      <td>81.0</td>\n",
              "      <td>7.7</td>\n",
              "      <td>5415.0</td>\n",
              "      <td>1995</td>\n",
              "      <td>Led by Woody, Andy's toys live happily in his ...</td>\n",
              "      <td>862</td>\n",
              "    </tr>\n",
              "    <tr>\n",
              "      <th>1</th>\n",
              "      <td>Jumanji</td>\n",
              "      <td>['adventure', 'fantasy', 'family']</td>\n",
              "      <td>104.0</td>\n",
              "      <td>6.9</td>\n",
              "      <td>2413.0</td>\n",
              "      <td>1995</td>\n",
              "      <td>When siblings Judy and Peter discover an encha...</td>\n",
              "      <td>8844</td>\n",
              "    </tr>\n",
              "    <tr>\n",
              "      <th>2</th>\n",
              "      <td>Grumpier Old Men</td>\n",
              "      <td>['romance', 'comedy']</td>\n",
              "      <td>101.0</td>\n",
              "      <td>6.5</td>\n",
              "      <td>92.0</td>\n",
              "      <td>1995</td>\n",
              "      <td>A family wedding reignites the ancient feud be...</td>\n",
              "      <td>15602</td>\n",
              "    </tr>\n",
              "    <tr>\n",
              "      <th>3</th>\n",
              "      <td>Waiting to Exhale</td>\n",
              "      <td>['comedy', 'drama', 'romance']</td>\n",
              "      <td>127.0</td>\n",
              "      <td>6.1</td>\n",
              "      <td>34.0</td>\n",
              "      <td>1995</td>\n",
              "      <td>Cheated on, mistreated and stepped on, the wom...</td>\n",
              "      <td>31357</td>\n",
              "    </tr>\n",
              "    <tr>\n",
              "      <th>4</th>\n",
              "      <td>Father of the Bride Part II</td>\n",
              "      <td>['comedy']</td>\n",
              "      <td>106.0</td>\n",
              "      <td>5.7</td>\n",
              "      <td>173.0</td>\n",
              "      <td>1995</td>\n",
              "      <td>Just when George Banks has recovered from his ...</td>\n",
              "      <td>11862</td>\n",
              "    </tr>\n",
              "  </tbody>\n",
              "</table>\n",
              "</div>"
            ],
            "text/plain": [
              "                         title  ...     id\n",
              "0                    Toy Story  ...    862\n",
              "1                      Jumanji  ...   8844\n",
              "2             Grumpier Old Men  ...  15602\n",
              "3            Waiting to Exhale  ...  31357\n",
              "4  Father of the Bride Part II  ...  11862\n",
              "\n",
              "[5 rows x 8 columns]"
            ]
          },
          "metadata": {
            "tags": []
          },
          "execution_count": 8
        }
      ]
    },
    {
      "cell_type": "code",
      "metadata": {
        "id": "wCN3DDkZzXlL",
        "colab_type": "code",
        "outputId": "8139807e-b7a9-438c-9c9a-1aba8b8678c6",
        "colab": {
          "base_uri": "https://localhost:8080/",
          "height": 34
        }
      },
      "source": [
        "#Import TfIdfVectorizer from the scikit-learn library\n",
        "from sklearn.feature_extraction.text import TfidfVectorizer\n",
        "\n",
        "#Define a TF-IDF Vectorizer Object. Remove all english stopwords\n",
        "tfidf = TfidfVectorizer(stop_words='english')\n",
        "\n",
        "#Replace NaN with an empty string\n",
        "df['overview'] = df['overview'].fillna('')\n",
        "\n",
        "#Construct the required TF-IDF matrix by applying the fit_transform method on the overview feature\n",
        "tfidf_matrix = tfidf.fit_transform(df['overview'])\n",
        "\n",
        "#Output the shape of tfidf_matrix\n",
        "tfidf_matrix.shape"
      ],
      "execution_count": 0,
      "outputs": [
        {
          "output_type": "execute_result",
          "data": {
            "text/plain": [
              "(45466, 75827)"
            ]
          },
          "metadata": {
            "tags": []
          },
          "execution_count": 9
        }
      ]
    },
    {
      "cell_type": "code",
      "metadata": {
        "id": "cjqXhNh5zXlP",
        "colab_type": "code",
        "colab": {}
      },
      "source": [
        "# Import linear_kernel to compute the dot product\n",
        "from sklearn.metrics.pairwise import linear_kernel\n",
        "\n",
        "# Compute the cosine similarity matrix\n",
        "cosine_sim = linear_kernel(tfidf_matrix, tfidf_matrix)"
      ],
      "execution_count": 0,
      "outputs": []
    },
    {
      "cell_type": "code",
      "metadata": {
        "id": "X2voOXzRzXlU",
        "colab_type": "code",
        "colab": {}
      },
      "source": [
        "#Construct a reverse mapping of indices and movie titles, and drop duplicate titles, if any\n",
        "print(cosine_sim.shape)\n",
        "indices = pd.Series(df.index, index=df['title']).drop_duplicates()"
      ],
      "execution_count": 0,
      "outputs": []
    },
    {
      "cell_type": "code",
      "metadata": {
        "id": "W0203OBWzXlZ",
        "colab_type": "code",
        "colab": {}
      },
      "source": [
        "# Function that takes in movie title as input and gives recommendations \n",
        "def content_recommender(title, cosine_sim=cosine_sim, df=df, indices=indices):\n",
        "    # Obtain the index of the movie that matches the title\n",
        "    idx = indices[title]\n",
        "\n",
        "    # Get the pairwsie similarity scores of all movies with that movie\n",
        "    # And convert it into a list of tuples as described above\n",
        "    sim_scores = list(enumerate(cosine_sim[idx]))\n",
        "\n",
        "    # Sort the movies based on the cosine similarity scores\n",
        "    sim_scores = sorted(sim_scores, key=lambda x: x[1], reverse=True)\n",
        "\n",
        "    # Get the scores of the 10 most similar movies. Ignore the first movie.\n",
        "    sim_scores = sim_scores[1:11]\n",
        "\n",
        "    # Get the movie indices\n",
        "    movie_indices = [i[0] for i in sim_scores]\n",
        "\n",
        "    # Return the top 10 most similar movies\n",
        "    return df['title'].iloc[movie_indices]"
      ],
      "execution_count": 0,
      "outputs": []
    },
    {
      "cell_type": "code",
      "metadata": {
        "id": "e7tPJEFtzXlc",
        "colab_type": "code",
        "colab": {}
      },
      "source": [
        "#Get recommendations for The Lion King\n",
        "content_recommender('The Lion King')"
      ],
      "execution_count": 0,
      "outputs": []
    },
    {
      "cell_type": "code",
      "metadata": {
        "id": "-QnTqQ0H5e8Y",
        "colab_type": "code",
        "colab": {}
      },
      "source": [
        "\n"
      ],
      "execution_count": 0,
      "outputs": []
    },
    {
      "cell_type": "markdown",
      "metadata": {
        "id": "bLpTzcIZzXlh",
        "colab_type": "text"
      },
      "source": [
        "# Metadata Based Recommender"
      ]
    },
    {
      "cell_type": "code",
      "metadata": {
        "id": "JH0RHZDWzXlk",
        "colab_type": "code",
        "colab": {}
      },
      "source": [
        "# Load the keywords and credits files\n",
        "cred_df = pd.read_csv('gdrive/My Drive/all_google_colab/credits.csv')\n",
        "key_df = pd.read_csv('gdrive/My Drive/all_google_colab/keywords.csv')"
      ],
      "execution_count": 0,
      "outputs": []
    },
    {
      "cell_type": "code",
      "metadata": {
        "id": "N3DNJdgszXly",
        "colab_type": "code",
        "colab": {}
      },
      "source": [
        "#Print the head of the credit dataframe\n",
        "cred_df.head()"
      ],
      "execution_count": 0,
      "outputs": []
    },
    {
      "cell_type": "code",
      "metadata": {
        "id": "BZjn-1uhzXl6",
        "colab_type": "code",
        "colab": {}
      },
      "source": [
        "#Print the head of the keywords dataframe\n",
        "key_df.head()"
      ],
      "execution_count": 0,
      "outputs": []
    },
    {
      "cell_type": "code",
      "metadata": {
        "id": "cF1S9sKMsLs9",
        "colab_type": "code",
        "colab": {}
      },
      "source": [
        "type(df['id'][0])"
      ],
      "execution_count": 0,
      "outputs": []
    },
    {
      "cell_type": "code",
      "metadata": {
        "id": "2gDWgVpKzXmB",
        "colab_type": "code",
        "colab": {}
      },
      "source": [
        "#Convert the IDs of df into int\n",
        "#df['id'] = df['id'].astype('int')"
      ],
      "execution_count": 0,
      "outputs": []
    },
    {
      "cell_type": "code",
      "metadata": {
        "id": "BSdEf8qpzXmJ",
        "colab_type": "code",
        "colab": {}
      },
      "source": [
        "# Function to convert all non-integer IDs to NaN\n",
        "def clean_ids(x):\n",
        "    try:\n",
        "        return int(x)\n",
        "    except:\n",
        "        return np.nan"
      ],
      "execution_count": 0,
      "outputs": []
    },
    {
      "cell_type": "code",
      "metadata": {
        "id": "yCfWbSuyzXmP",
        "colab_type": "code",
        "colab": {}
      },
      "source": [
        "#Clean the ids of df\n",
        "df['id'] = df['id'].apply(clean_ids)\n",
        "\n",
        "#Filter all rows that have a null ID\n",
        "df = df[df['id'].notnull()]"
      ],
      "execution_count": 0,
      "outputs": []
    },
    {
      "cell_type": "code",
      "metadata": {
        "id": "Ho04xLMCzXmY",
        "colab_type": "code",
        "colab": {}
      },
      "source": [
        "# Convert IDs into integer\n",
        "df['id'] = df['id'].astype('int')\n",
        "key_df['id'] = key_df['id'].astype('int')\n",
        "cred_df['id'] = cred_df['id'].astype('int')\n",
        "\n",
        "# Merge keywords and credits into your main metadata dataframe\n",
        "df = df.merge(cred_df, on='id')\n",
        "df = df.merge(key_df, on='id')\n",
        "\n",
        "#Display the head of df\n",
        "df.head()"
      ],
      "execution_count": 0,
      "outputs": []
    },
    {
      "cell_type": "code",
      "metadata": {
        "id": "oJfHhyHwzXmb",
        "colab_type": "code",
        "colab": {}
      },
      "source": [
        "# Convert the stringified objects into the native python objects\n",
        "from ast import literal_eval\n",
        "\n",
        "features = ['cast', 'crew', 'keywords', 'genres']\n",
        "for feature in features:\n",
        "    df[feature] = df[feature].apply(literal_eval)"
      ],
      "execution_count": 0,
      "outputs": []
    },
    {
      "cell_type": "code",
      "metadata": {
        "id": "KycUZMuozXmg",
        "colab_type": "code",
        "colab": {}
      },
      "source": [
        "#Print the first cast member of the first movie in df\n",
        "df.iloc[0]['crew'][0]"
      ],
      "execution_count": 0,
      "outputs": []
    },
    {
      "cell_type": "code",
      "metadata": {
        "id": "aV_J5uolzXmk",
        "colab_type": "code",
        "colab": {}
      },
      "source": [
        "# Extract the director's name. If director is not listed, return NaN\n",
        "def get_director(x):\n",
        "    for crew_member in x:\n",
        "        if crew_member['job'] == 'Director':\n",
        "            return crew_member['name']\n",
        "    return np.nan"
      ],
      "execution_count": 0,
      "outputs": []
    },
    {
      "cell_type": "code",
      "metadata": {
        "id": "Oi5gD6gXzXmu",
        "colab_type": "code",
        "colab": {}
      },
      "source": [
        "#Define the new director feature\n",
        "df['director'] = df['crew'].apply(get_director)\n",
        "\n",
        "#Print the directors of the first five movies\n",
        "df['director'].head()"
      ],
      "execution_count": 0,
      "outputs": []
    },
    {
      "cell_type": "code",
      "metadata": {
        "id": "jN-YHtq7zXm0",
        "colab_type": "code",
        "colab": {}
      },
      "source": [
        "# Returns the list top 3 elements or entire list; whichever is more.\n",
        "def generate_list(x):\n",
        "    if isinstance(x, list):\n",
        "        names = [i['name'] for i in x]\n",
        "        #Check if more than 3 elements exist. If yes, return only first three. If no, return entire list.\n",
        "        if len(names) > 3:\n",
        "            names = names[:3]\n",
        "        return names\n",
        "\n",
        "    #Return empty list in case of missing/malformed data\n",
        "    return []"
      ],
      "execution_count": 0,
      "outputs": []
    },
    {
      "cell_type": "code",
      "metadata": {
        "id": "N6ERykHqzXm9",
        "colab_type": "code",
        "colab": {}
      },
      "source": [
        "#Apply the generate_list function to cast and keywords\n",
        "df['cast'] = df['cast'].apply(generate_list)\n",
        "df['keywords'] = df['keywords'].apply(generate_list)"
      ],
      "execution_count": 0,
      "outputs": []
    },
    {
      "cell_type": "code",
      "metadata": {
        "id": "18Yjex2lzXnK",
        "colab_type": "code",
        "colab": {}
      },
      "source": [
        "#Only consider a maximum of 3 genres\n",
        "df['genres'] = df['genres'].apply(lambda x: x[:3])"
      ],
      "execution_count": 0,
      "outputs": []
    },
    {
      "cell_type": "code",
      "metadata": {
        "id": "hHo4QZIUzXnU",
        "colab_type": "code",
        "colab": {}
      },
      "source": [
        "# Print the new features of the first 5 movies along with title\n",
        "df[['title', 'cast', 'director', 'keywords', 'genres']].head()"
      ],
      "execution_count": 0,
      "outputs": []
    },
    {
      "cell_type": "code",
      "metadata": {
        "id": "hPoS_67WzXnZ",
        "colab_type": "code",
        "colab": {}
      },
      "source": [
        "# Function to sanitize data to prevent ambiguity. It removes spaces and converts to lowercase\n",
        "def sanitize(x):\n",
        "    if isinstance(x, list):\n",
        "        #Strip spaces and convert to lowercase\n",
        "        return [str.lower(i.replace(\" \", \"\")) for i in x]\n",
        "    else:\n",
        "        #Check if director exists. If not, return empty string\n",
        "        if isinstance(x, str):\n",
        "            return str.lower(x.replace(\" \", \"\"))\n",
        "        else:\n",
        "            return ''"
      ],
      "execution_count": 0,
      "outputs": []
    },
    {
      "cell_type": "code",
      "metadata": {
        "id": "Gh9rBB4IzXnc",
        "colab_type": "code",
        "colab": {}
      },
      "source": [
        "#Apply the generate_list function to cast, keywords, director and genres\n",
        "for feature in ['cast', 'director', 'genres', 'keywords']:\n",
        "    df[feature] = df[feature].apply(sanitize)"
      ],
      "execution_count": 0,
      "outputs": []
    },
    {
      "cell_type": "code",
      "metadata": {
        "scrolled": true,
        "id": "_obWuYpozXng",
        "colab_type": "code",
        "colab": {}
      },
      "source": [
        "#Function that creates a soup out of the desired metadata\n",
        "def create_soup(x):\n",
        "    return ' '.join(x['keywords']) + ' ' + ' '.join(x['cast']) + ' ' + x['director'] + ' ' + ' '.join(x['genres'])"
      ],
      "execution_count": 0,
      "outputs": []
    },
    {
      "cell_type": "code",
      "metadata": {
        "id": "qDgYhPQezXnl",
        "colab_type": "code",
        "colab": {}
      },
      "source": [
        "# Create the new soup feature\n",
        "df['soup'] = df.apply(create_soup, axis=1)"
      ],
      "execution_count": 0,
      "outputs": []
    },
    {
      "cell_type": "code",
      "metadata": {
        "id": "pbOtWu5rzXnq",
        "colab_type": "code",
        "colab": {}
      },
      "source": [
        "#Display the soup of the first movie\n",
        "df.iloc[0]['soup']"
      ],
      "execution_count": 0,
      "outputs": []
    },
    {
      "cell_type": "code",
      "metadata": {
        "id": "NySh3FsnzXnz",
        "colab_type": "code",
        "colab": {}
      },
      "source": [
        "# Import CountVectorizer\n",
        "from sklearn.feature_extraction.text import CountVectorizer\n",
        "\n",
        "#Define a new CountVectorizer object and create vectors for the soup\n",
        "count = CountVectorizer(stop_words='english')\n",
        "count_matrix = count.fit_transform(df['soup'])"
      ],
      "execution_count": 0,
      "outputs": []
    },
    {
      "cell_type": "code",
      "metadata": {
        "id": "IGSvcwCRzXoA",
        "colab_type": "code",
        "colab": {}
      },
      "source": [
        "#Import cosine_similarity function\n",
        "from sklearn.metrics.pairwise import cosine_similarity\n",
        "\n",
        "#Compute the cosine similarity score (equivalent to dot product for tf-idf vectors)\n",
        "cosine_sim2 = cosine_similarity(count_matrix, count_matrix)"
      ],
      "execution_count": 0,
      "outputs": []
    },
    {
      "cell_type": "code",
      "metadata": {
        "id": "lOIiglwZzXoH",
        "colab_type": "code",
        "colab": {}
      },
      "source": [
        "print(cosine_sim2.shape)\n",
        "\n",
        "# Reset index of your df and construct reverse mapping again\n",
        "df = df.reset_index()\n",
        "indices2 = pd.Series(df.index, index=df['title'])"
      ],
      "execution_count": 0,
      "outputs": []
    },
    {
      "cell_type": "code",
      "metadata": {
        "id": "CfJr9sxPzXoO",
        "colab_type": "code",
        "outputId": "ae2c1c49-e338-4c85-f84b-81f7be7c991d",
        "colab": {}
      },
      "source": [
        "content_recommender('The Lion King', cosine_sim2, df, indices2)"
      ],
      "execution_count": 0,
      "outputs": [
        {
          "output_type": "execute_result",
          "data": {
            "text/plain": [
              "29607                                          Cheburashka\n",
              "40904                   VeggieTales: Josh and the Big Wall\n",
              "40913    VeggieTales: Minnesota Cuke and the Search for...\n",
              "27768                                 The Little Matchgirl\n",
              "15209             Spiderman: The Ultimate Villain Showdown\n",
              "16613                            Cirque du Soleil: Varekai\n",
              "24654                                  The Seventh Brother\n",
              "29198                                      Superstar Goofy\n",
              "30244                                              My Love\n",
              "31179                Pokémon: Arceus and the Jewel of Life\n",
              "Name: title, dtype: object"
            ]
          },
          "metadata": {
            "tags": []
          },
          "execution_count": 37
        }
      ]
    },
    {
      "cell_type": "code",
      "metadata": {
        "id": "7IfWqox3zXoT",
        "colab_type": "code",
        "outputId": "6e8a8451-1a83-4bea-f09a-4683cbc628fd",
        "colab": {
          "base_uri": "https://localhost:8080/",
          "height": 34
        }
      },
      "source": [
        "from google.colab import drive\n",
        "drive.mount('drive')"
      ],
      "execution_count": 0,
      "outputs": [
        {
          "output_type": "stream",
          "text": [
            "Mounted at drive\n"
          ],
          "name": "stdout"
        }
      ]
    },
    {
      "cell_type": "code",
      "metadata": {
        "id": "AO58pgglY3q-",
        "colab_type": "code",
        "colab": {}
      },
      "source": [
        "df.to_csv('hack_new.csv')\n",
        "!cp hack_new.csv drive/My\\ Drive/all_google_colab/"
      ],
      "execution_count": 0,
      "outputs": []
    }
  ]
}